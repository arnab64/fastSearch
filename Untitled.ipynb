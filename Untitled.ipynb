{
 "cells": [
  {
   "cell_type": "code",
   "execution_count": 6,
   "metadata": {},
   "outputs": [],
   "source": [
    "from sklearn.metrics.pairwise import cosine_similarity\n",
    "import numpy as np"
   ]
  },
  {
   "cell_type": "code",
   "execution_count": 2,
   "metadata": {},
   "outputs": [],
   "source": [
    "from sentence_transformers import SentenceTransformer"
   ]
  },
  {
   "cell_type": "code",
   "execution_count": 3,
   "metadata": {},
   "outputs": [
    {
     "name": "stderr",
     "output_type": "stream",
     "text": [
      "100%|██████████| 245M/245M [00:36<00:00, 6.74MB/s] \n"
     ]
    },
    {
     "ename": "NameError",
     "evalue": "name 'util' is not defined",
     "output_type": "error",
     "traceback": [
      "\u001b[0;31m---------------------------------------------------------------------------\u001b[0m",
      "\u001b[0;31mNameError\u001b[0m                                 Traceback (most recent call last)",
      "\u001b[0;32m<ipython-input-3-0f86af8cd67f>\u001b[0m in \u001b[0;36m<module>\u001b[0;34m()\u001b[0m\n\u001b[1;32m     15\u001b[0m \u001b[0;34m\u001b[0m\u001b[0m\n\u001b[1;32m     16\u001b[0m \u001b[0;31m#Compute cosine-similarities for each sentence with each other sentence\u001b[0m\u001b[0;34m\u001b[0m\u001b[0;34m\u001b[0m\u001b[0;34m\u001b[0m\u001b[0m\n\u001b[0;32m---> 17\u001b[0;31m \u001b[0mcosine_scores\u001b[0m \u001b[0;34m=\u001b[0m \u001b[0mutil\u001b[0m\u001b[0;34m.\u001b[0m\u001b[0mpytorch_cos_sim\u001b[0m\u001b[0;34m(\u001b[0m\u001b[0membeddings\u001b[0m\u001b[0;34m,\u001b[0m \u001b[0membeddings\u001b[0m\u001b[0;34m)\u001b[0m\u001b[0;34m\u001b[0m\u001b[0;34m\u001b[0m\u001b[0m\n\u001b[0m\u001b[1;32m     18\u001b[0m \u001b[0;34m\u001b[0m\u001b[0m\n\u001b[1;32m     19\u001b[0m \u001b[0;31m#Find the pairs with the highest cosine similarity scores\u001b[0m\u001b[0;34m\u001b[0m\u001b[0;34m\u001b[0m\u001b[0;34m\u001b[0m\u001b[0m\n",
      "\u001b[0;31mNameError\u001b[0m: name 'util' is not defined"
     ]
    }
   ],
   "source": [
    "model = SentenceTransformer('distilbert-base-nli-stsb-mean-tokens')\n",
    "\n",
    "# Single list of sentences\n",
    "sentences = ['The cat sits outside',\n",
    "             'A man is playing guitar',\n",
    "             'I love pasta',\n",
    "             'The new movie is awesome',\n",
    "             'The cat plays in the garden',\n",
    "             'A woman watches TV',\n",
    "             'The new movie is so great',\n",
    "             'Do you like pizza?']\n",
    "\n",
    "#Compute embeddings\n",
    "embeddings = model.encode(sentences, convert_to_tensor=True)"
   ]
  },
  {
   "cell_type": "code",
   "execution_count": 18,
   "metadata": {},
   "outputs": [],
   "source": [
    "vc = cosine_similarity(embeddings[0].reshape(-1, 1),embeddings[1].reshape(-1, 1))"
   ]
  },
  {
   "cell_type": "code",
   "execution_count": 19,
   "metadata": {},
   "outputs": [
    {
     "data": {
      "text/plain": [
       "768.0"
      ]
     },
     "execution_count": 19,
     "metadata": {},
     "output_type": "execute_result"
    }
   ],
   "source": [
    "np.linalg.norm(vc)"
   ]
  },
  {
   "cell_type": "code",
   "execution_count": 20,
   "metadata": {},
   "outputs": [
    {
     "name": "stdout",
     "output_type": "stream",
     "text": [
      "0 0 - 768.0\n",
      "0 1 - 768.0\n",
      "0 2 - 768.0\n",
      "0 3 - 768.0\n",
      "0 4 - 768.0\n",
      "0 5 - 768.0\n",
      "0 6 - 768.0\n",
      "0 7 - 768.0\n",
      "1 0 - 768.0\n",
      "1 1 - 768.0\n",
      "1 2 - 768.0\n",
      "1 3 - 768.0\n",
      "1 4 - 768.0\n",
      "1 5 - 768.0\n",
      "1 6 - 768.0\n",
      "1 7 - 768.0\n",
      "2 0 - 768.0\n",
      "2 1 - 768.0\n",
      "2 2 - 768.0\n",
      "2 3 - 768.0\n",
      "2 4 - 768.0\n",
      "2 5 - 768.0\n",
      "2 6 - 768.0\n",
      "2 7 - 768.0\n",
      "3 0 - 768.0\n",
      "3 1 - 768.0\n",
      "3 2 - 768.0\n",
      "3 3 - 768.0\n",
      "3 4 - 768.0\n",
      "3 5 - 768.0\n",
      "3 6 - 768.0\n",
      "3 7 - 768.0\n",
      "4 0 - 768.0\n",
      "4 1 - 768.0\n",
      "4 2 - 768.0\n",
      "4 3 - 768.0\n",
      "4 4 - 768.0\n",
      "4 5 - 768.0\n",
      "4 6 - 768.0\n",
      "4 7 - 768.0\n",
      "5 0 - 768.0\n",
      "5 1 - 768.0\n",
      "5 2 - 768.0\n",
      "5 3 - 768.0\n",
      "5 4 - 768.0\n",
      "5 5 - 768.0\n",
      "5 6 - 768.0\n",
      "5 7 - 768.0\n",
      "6 0 - 768.0\n",
      "6 1 - 768.0\n",
      "6 2 - 768.0\n",
      "6 3 - 768.0\n",
      "6 4 - 768.0\n",
      "6 5 - 768.0\n",
      "6 6 - 768.0\n",
      "6 7 - 768.0\n",
      "7 0 - 768.0\n",
      "7 1 - 768.0\n",
      "7 2 - 768.0\n",
      "7 3 - 768.0\n",
      "7 4 - 768.0\n",
      "7 5 - 768.0\n",
      "7 6 - 768.0\n",
      "7 7 - 768.0\n"
     ]
    }
   ],
   "source": [
    "for i in range(len(sentences)):\n",
    "    for j in range(len(sentences)):\n",
    "        print(i,j,\"-\",np.linalg.norm(cosine_similarity(embeddings[0].reshape(-1, 1),embeddings[1].reshape(-1, 1))))"
   ]
  },
  {
   "cell_type": "code",
   "execution_count": null,
   "metadata": {},
   "outputs": [],
   "source": []
  }
 ],
 "metadata": {
  "kernelspec": {
   "display_name": "Python 3",
   "language": "python",
   "name": "python3"
  },
  "language_info": {
   "codemirror_mode": {
    "name": "ipython",
    "version": 3
   },
   "file_extension": ".py",
   "mimetype": "text/x-python",
   "name": "python",
   "nbconvert_exporter": "python",
   "pygments_lexer": "ipython3",
   "version": "3.6.8"
  }
 },
 "nbformat": 4,
 "nbformat_minor": 2
}
